{
 "cells": [
  {
   "cell_type": "code",
   "execution_count": 31,
   "id": "4a6ed5a7-8ce1-4943-b90d-d51c7dc84135",
   "metadata": {},
   "outputs": [],
   "source": [
    "# import pickle (pickle is similar to \"serialize\" whereas unpickle is similar to \"deserialize\")\n",
    "import pickle as pc\n",
    "# import matplotlib (used to visualize images)\n",
    "import matplotlib.pyplot as plt\n",
    "\n",
    "import pandas as pd\n",
    "\n",
    "# import open-cv\n",
    "import cv2\n"
   ]
  },
  {
   "cell_type": "code",
   "execution_count": null,
   "id": "41b82ac8-cebf-40f7-80b0-2c7e6f62bc4f",
   "metadata": {},
   "outputs": [],
   "source": []
  },
  {
   "cell_type": "code",
   "execution_count": null,
   "id": "20944349-4da0-4a71-beaf-4efc82b6fa12",
   "metadata": {},
   "outputs": [],
   "source": []
  }
 ],
 "metadata": {
  "kernelspec": {
   "display_name": "Python 3 (ipykernel)",
   "language": "python",
   "name": "python3"
  },
  "language_info": {
   "codemirror_mode": {
    "name": "ipython",
    "version": 3
   },
   "file_extension": ".py",
   "mimetype": "text/x-python",
   "name": "python",
   "nbconvert_exporter": "python",
   "pygments_lexer": "ipython3",
   "version": "3.12.0"
  }
 },
 "nbformat": 4,
 "nbformat_minor": 5
}
