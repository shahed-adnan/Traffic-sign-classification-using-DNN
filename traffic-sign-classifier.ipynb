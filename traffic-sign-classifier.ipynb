{
 "cells": [
  {
   "cell_type": "code",
   "execution_count": 31,
   "id": "4a6ed5a7-8ce1-4943-b90d-d51c7dc84135",
   "metadata": {},
   "outputs": [],
   "source": [
    "# import pickle (pickle is similar to \"serialize\" whereas unpickle is similar to \"deserialize\")\n",
    "import pickle as pc\n",
    "# import matplotlib (used to visualize images)\n",
    "import matplotlib.pyplot as plt\n",
    "\n",
    "import pandas as pd\n",
    "# import open-cv (used for image processing)\n",
    "import cv2\n"
   ]
  },
  {
   "cell_type": "code",
   "execution_count": 32,
   "id": "41b82ac8-cebf-40f7-80b0-2c7e6f62bc4f",
   "metadata": {},
   "outputs": [],
   "source": [
    "# open pickle files and create training, testing and validation variable\n",
    "with open('deutschland-traffic-signs/train.p','rb') as file:\n",
    "    train_data = pickle.load(file)\n",
    "with open('deutschland-traffic-signs/test.p','rb') as file:\n",
    "    test_data = pickle.load(file)\n",
    "with open('deutschland-traffic-signs/valid.p','rb') as file:\n",
    "    validation_data = pickle.load(file)\n"
   ]
  },
  {
   "cell_type": "code",
   "execution_count": null,
   "id": "20944349-4da0-4a71-beaf-4efc82b6fa12",
   "metadata": {},
   "outputs": [],
   "source": []
  }
 ],
 "metadata": {
  "kernelspec": {
   "display_name": "Python 3 (ipykernel)",
   "language": "python",
   "name": "python3"
  },
  "language_info": {
   "codemirror_mode": {
    "name": "ipython",
    "version": 3
   },
   "file_extension": ".py",
   "mimetype": "text/x-python",
   "name": "python",
   "nbconvert_exporter": "python",
   "pygments_lexer": "ipython3",
   "version": "3.12.0"
  }
 },
 "nbformat": 4,
 "nbformat_minor": 5
}
