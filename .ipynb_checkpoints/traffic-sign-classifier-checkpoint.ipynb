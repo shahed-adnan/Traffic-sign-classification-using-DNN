{
 "cells": [
  {
   "cell_type": "code",
   "execution_count": 9,
   "id": "4a6ed5a7-8ce1-4943-b90d-d51c7dc84135",
   "metadata": {},
   "outputs": [],
   "source": [
    "# import pickle (pickle is similar to \"serialize\" whereas unpickle is similar to \"deserialize\")\n",
    "import pickle as pc\n",
    "# import matplotlib (used to visualize images)\n",
    "import matplotlib.pyplot as plt\n",
    "\n",
    "import pandas as pd\n",
    "# import open-cv (used for image processing and computer vision, the alternative one could be Pillow)\n",
    "import cv2\n",
    "# import numpy\n",
    "import numpy as np\n"
   ]
  },
  {
   "cell_type": "code",
   "execution_count": 10,
   "id": "41b82ac8-cebf-40f7-80b0-2c7e6f62bc4f",
   "metadata": {},
   "outputs": [],
   "source": [
    "# open pickle files and create training, testing and validation variable\n",
    "with open('german-traffic-sign/train_data.p','rb') as file:\n",
    "    train_data = pc.load(file)\n",
    "with open('german-traffic-sign/test_data.p','rb') as file:\n",
    "    test_data = pc.load(file)\n",
    "with open('german-traffic-sign/valid_data.p','rb') as file:\n",
    "    validation_data = pc.load(file)\n"
   ]
  },
  {
   "cell_type": "code",
   "execution_count": 11,
   "id": "20944349-4da0-4a71-beaf-4efc82b6fa12",
   "metadata": {},
   "outputs": [],
   "source": [
    "# splitting data into train, test and validation data\n",
    "x_train, y_train = train_data['features'],train_data['labels']\n",
    "x_test, y_test = test_data['features'],test_data['labels']\n",
    "x_val, y_val = validation_data['features'],validation_data['labels']\n"
   ]
  },
  {
   "cell_type": "code",
   "execution_count": 12,
   "id": "1e00606e-a2b6-4fbc-a216-79d3347daaa1",
   "metadata": {},
   "outputs": [
    {
     "name": "stdout",
     "output_type": "stream",
     "text": [
      "(34799, 32, 32, 3)\n",
      "(34799,)\n"
     ]
    }
   ],
   "source": [
    "print(x_train.shape)\n",
    "print(y_train.shape)"
   ]
  },
  {
   "cell_type": "code",
   "execution_count": 14,
   "id": "b797a5ee-12ba-4fc8-b43a-ca3be42a9d45",
   "metadata": {},
   "outputs": [
    {
     "name": "stdout",
     "output_type": "stream",
     "text": [
      "    ClassId                                           SignName\n",
      "0         0                               Speed limit (20km/h)\n",
      "1         1                               Speed limit (30km/h)\n",
      "2         2                               Speed limit (50km/h)\n",
      "3         3                               Speed limit (60km/h)\n",
      "4         4                               Speed limit (70km/h)\n",
      "5         5                               Speed limit (80km/h)\n",
      "6         6                        End of speed limit (80km/h)\n",
      "7         7                              Speed limit (100km/h)\n",
      "8         8                              Speed limit (120km/h)\n",
      "9         9                                         No passing\n",
      "10       10       No passing for vechiles over 3.5 metric tons\n",
      "11       11              Right-of-way at the next intersection\n",
      "12       12                                      Priority road\n",
      "13       13                                              Yield\n",
      "14       14                                               Stop\n",
      "15       15                                        No vechiles\n",
      "16       16           Vechiles over 3.5 metric tons prohibited\n",
      "17       17                                           No entry\n",
      "18       18                                    General caution\n",
      "19       19                        Dangerous curve to the left\n",
      "20       20                       Dangerous curve to the right\n",
      "21       21                                       Double curve\n",
      "22       22                                         Bumpy road\n",
      "23       23                                      Slippery road\n",
      "24       24                          Road narrows on the right\n",
      "25       25                                          Road work\n",
      "26       26                                    Traffic signals\n",
      "27       27                                        Pedestrians\n",
      "28       28                                  Children crossing\n",
      "29       29                                  Bicycles crossing\n",
      "30       30                                 Beware of ice/snow\n",
      "31       31                              Wild animals crossing\n",
      "32       32                End of all speed and passing limits\n",
      "33       33                                   Turn right ahead\n",
      "34       34                                    Turn left ahead\n",
      "35       35                                         Ahead only\n",
      "36       36                               Go straight or right\n",
      "37       37                                Go straight or left\n",
      "38       38                                         Keep right\n",
      "39       39                                          Keep left\n",
      "40       40                               Roundabout mandatory\n",
      "41       41                                  End of no passing\n",
      "42       42  End of no passing by vechiles over 3.5 metric ...\n",
      "\n",
      "\n",
      "---------Data Description------\n"
     ]
    },
    {
     "data": {
      "text/html": [
       "<div>\n",
       "<style scoped>\n",
       "    .dataframe tbody tr th:only-of-type {\n",
       "        vertical-align: middle;\n",
       "    }\n",
       "\n",
       "    .dataframe tbody tr th {\n",
       "        vertical-align: top;\n",
       "    }\n",
       "\n",
       "    .dataframe thead th {\n",
       "        text-align: right;\n",
       "    }\n",
       "</style>\n",
       "<table border=\"1\" class=\"dataframe\">\n",
       "  <thead>\n",
       "    <tr style=\"text-align: right;\">\n",
       "      <th></th>\n",
       "      <th>ClassId</th>\n",
       "    </tr>\n",
       "  </thead>\n",
       "  <tbody>\n",
       "    <tr>\n",
       "      <th>count</th>\n",
       "      <td>43.000000</td>\n",
       "    </tr>\n",
       "    <tr>\n",
       "      <th>mean</th>\n",
       "      <td>21.000000</td>\n",
       "    </tr>\n",
       "    <tr>\n",
       "      <th>std</th>\n",
       "      <td>12.556539</td>\n",
       "    </tr>\n",
       "    <tr>\n",
       "      <th>min</th>\n",
       "      <td>0.000000</td>\n",
       "    </tr>\n",
       "    <tr>\n",
       "      <th>25%</th>\n",
       "      <td>10.500000</td>\n",
       "    </tr>\n",
       "    <tr>\n",
       "      <th>50%</th>\n",
       "      <td>21.000000</td>\n",
       "    </tr>\n",
       "    <tr>\n",
       "      <th>75%</th>\n",
       "      <td>31.500000</td>\n",
       "    </tr>\n",
       "    <tr>\n",
       "      <th>max</th>\n",
       "      <td>42.000000</td>\n",
       "    </tr>\n",
       "  </tbody>\n",
       "</table>\n",
       "</div>"
      ],
      "text/plain": [
       "         ClassId\n",
       "count  43.000000\n",
       "mean   21.000000\n",
       "std    12.556539\n",
       "min     0.000000\n",
       "25%    10.500000\n",
       "50%    21.000000\n",
       "75%    31.500000\n",
       "max    42.000000"
      ]
     },
     "execution_count": 14,
     "metadata": {},
     "output_type": "execute_result"
    }
   ],
   "source": [
    "traffic_sign_data = pd.read_csv('german-traffic-sign/traffic_signnames.csv')\n",
    "print(traffic_sign_data)\n",
    "print('\\n\\n---------Data Description------')\n",
    "traffic_sign_data.describe()"
   ]
  },
  {
   "cell_type": "code",
   "execution_count": 15,
   "id": "32511d85-a3f1-4718-b26c-7eb52ae88264",
   "metadata": {},
   "outputs": [
    {
     "data": {
      "image/png": "[encoded data removed]",
      "text/plain": [
       "<Figure size 500x500 with 1 Axes>"
      ]
     },
     "metadata": {},
     "output_type": "display_data"
    },
    {
     "name": "stdout",
     "output_type": "stream",
     "text": [
      "(32, 32, 3)\n"
     ]
    }
   ],
   "source": [
    "# display image with matplotlib\n",
    "plt.figure(figsize=(5,5))\n",
    "plt.imshow(x_train[0])\n",
    "plt.show()\n",
    "print(x_train[0].shape)"
   ]
  },
  {
   "cell_type": "code",
   "execution_count": 16,
   "id": "dc2e9891-8e9c-4d37-8e81-c097fb5fa2a5",
   "metadata": {},
   "outputs": [],
   "source": [
    "# preprocessing\n",
    "def preprocessing(image):\n",
    "    # converting to gray scale. OpenCV uses BLUE,GREEN, RED (BGR) format whereas pillow uses RGB \n",
    "    gray_img = cv2.cvtColor(image,cv2.COLOR_BGR2GRAY)\n",
    "    \n",
    "    # Equalizing\n",
    "    equalize_img = cv2.equalizeHist(gray_img)\n",
    "\n",
    "    # normalizing images\n",
    "    norm_img = equalize_img /255\n",
    "    return norm_img\n",
    "    \n",
    "    "
   ]
  },
  {
   "cell_type": "code",
   "execution_count": 17,
   "id": "ce750aab-8c19-4796-92f7-2bc9dcc1c0d6",
   "metadata": {},
   "outputs": [],
   "source": [
    "# preprocessing entire dataset.\n",
    "x_train = np.array(list(map(preprocessing,x_train)))\n",
    "x_val = np.array(list(map(preprocessing,x_val)))\n",
    "x_test = np.array(list(map(preprocessing,x_test)))"
   ]
  },
  {
   "cell_type": "code",
   "execution_count": 18,
   "id": "71db7e35-de37-448d-b5e6-37ab7cdb9955",
   "metadata": {},
   "outputs": [
    {
     "name": "stdout",
     "output_type": "stream",
     "text": [
      "(32, 32)\n"
     ]
    },
    {
     "data": {
      "image/png": "[encoded data removed]",
      "text/plain": [
       "<Figure size 640x480 with 1 Axes>"
      ]
     },
     "metadata": {},
     "output_type": "display_data"
    }
   ],
   "source": [
    "# display newly preprocessed image\n",
    "plt.imshow(x_train[0])\n",
    "print(x_train[0].shape)"
   ]
  },
  {
   "cell_type": "code",
   "execution_count": 31,
   "id": "fd26a40b",
   "metadata": {},
   "outputs": [],
   "source": [
    "# importing libraries/computer vision frameworks\n",
    "import tensorflow as tf\n",
    "from tensorflow import keras\n",
    "from tensorflow.keras import layers"
   ]
  },
  {
   "cell_type": "code",
   "execution_count": 32,
   "id": "fe5cd989-7a41-4283-8099-9d4964f8e0aa",
   "metadata": {},
   "outputs": [],
   "source": [
    "# converting the labels into categorical variables\n",
    "from tensorflow.keras.utils import to_categorical\n",
    "\n",
    "y_cat_train = to_categorical(y_train,43)\n",
    "y_cat_test = to_categorical(y_test,43)\n",
    "y_cat_val = to_categorical(y_val,43)\n",
    "\n",
    "# reshaping the images\n",
    "\n",
    "x_train = x_train.reshape(34799, 32, 32, 1)\n",
    "x_test = x_test.reshape(12630,32,32,1)\n",
    "x_val = x_val.reshape(4410,32,32,1)"
   ]
  },
  {
   "cell_type": "code",
   "execution_count": 33,
   "id": "d2d543f7",
   "metadata": {},
   "outputs": [
    {
     "name": "stdout",
     "output_type": "stream",
     "text": [
      "WARNING:tensorflow:From C:\\Users\\fargi\\AppData\\Roaming\\Python\\Python39\\site-packages\\keras\\src\\backend.py:873: The name tf.get_default_graph is deprecated. Please use tf.compat.v1.get_default_graph instead.\n",
      "\n",
      "WARNING:tensorflow:From C:\\Users\\fargi\\AppData\\Roaming\\Python\\Python39\\site-packages\\keras\\src\\layers\\pooling\\max_pooling2d.py:161: The name tf.nn.max_pool is deprecated. Please use tf.nn.max_pool2d instead.\n",
      "\n"
     ]
    }
   ],
   "source": [
    "# creating model\n",
    "\n",
    "model = tf.keras.Sequential([\n",
    "    layers.Conv2D(30,(5,5), input_shape=(32,32,1), activation=\"relu\"),\n",
    "    layers.MaxPool2D(pool_size=(2,2)),\n",
    "    layers.Conv2D(15,(3,3), activation=\"relu\"),\n",
    "    layers.MaxPool2D(pool_size=(2,2)),\n",
    "    layers.Flatten(),\n",
    "    layers.Dense(500, activation=\"relu\"),\n",
    "    layers.Dropout(0.5),\n",
    "    layers.Dense(43, activation=\"softmax\"),\n",
    "    \n",
    "])"
   ]
  },
  {
   "cell_type": "code",
   "execution_count": 53,
   "id": "ecceed40",
   "metadata": {},
   "outputs": [
    {
     "name": "stdout",
     "output_type": "stream",
     "text": [
      "Model: \"sequential\"\n",
      "_________________________________________________________________\n",
      " Layer (type)                Output Shape              Param #   \n",
      "=================================================================\n",
      " conv2d (Conv2D)             (None, 28, 28, 30)        780       \n",
      "                                                                 \n",
      " max_pooling2d (MaxPooling2  (None, 14, 14, 30)        0         \n",
      " D)                                                              \n",
      "                                                                 \n",
      " conv2d_1 (Conv2D)           (None, 12, 12, 15)        4065      \n",
      "                                                                 \n",
      " max_pooling2d_1 (MaxPoolin  (None, 6, 6, 15)          0         \n",
      " g2D)                                                            \n",
      "                                                                 \n",
      " flatten (Flatten)           (None, 540)               0         \n",
      "                                                                 \n",
      " dense (Dense)               (None, 500)               270500    \n",
      "                                                                 \n",
      " dropout (Dropout)           (None, 500)               0         \n",
      "                                                                 \n",
      " dense_1 (Dense)             (None, 43)                21543     \n",
      "                                                                 \n",
      "=================================================================\n",
      "Total params: 296888 (1.13 MB)\n",
      "Trainable params: 296888 (1.13 MB)\n",
      "Non-trainable params: 0 (0.00 Byte)\n",
      "_________________________________________________________________\n",
      "None\n"
     ]
    }
   ],
   "source": [
    "# adding cross-entropy loss and accuracy metric to the model\n",
    "#Compiling the neural network\n",
    "model.compile(\n",
    "    optimizer='adam',\n",
    "    loss='categorical_crossentropy',\n",
    "    metrics=['accuracy']\n",
    ")\n",
    "\n",
    "print(model.summary())"
   ]
  },
  {
   "cell_type": "code",
   "execution_count": 54,
   "id": "56da821f",
   "metadata": {},
   "outputs": [
    {
     "name": "stdout",
     "output_type": "stream",
     "text": [
      "Epoch 1/25\n",
      "68/68 [==============================] - 4s 45ms/step - loss: 0.0285 - accuracy: 0.9911\n",
      "Epoch 2/25\n",
      "68/68 [==============================] - 3s 44ms/step - loss: 0.0245 - accuracy: 0.9926\n",
      "Epoch 3/25\n",
      "68/68 [==============================] - 3s 43ms/step - loss: 0.0225 - accuracy: 0.9928\n",
      "Epoch 4/25\n",
      "68/68 [==============================] - 3s 46ms/step - loss: 0.0244 - accuracy: 0.9923\n",
      "Epoch 5/25\n",
      "68/68 [==============================] - 6s 81ms/step - loss: 0.0225 - accuracy: 0.9928\n",
      "Epoch 6/25\n",
      "68/68 [==============================] - 5s 73ms/step - loss: 0.0183 - accuracy: 0.9942\n",
      "Epoch 7/25\n",
      "68/68 [==============================] - 5s 68ms/step - loss: 0.0213 - accuracy: 0.9931\n",
      "Epoch 8/25\n",
      "68/68 [==============================] - 4s 64ms/step - loss: 0.0188 - accuracy: 0.9939\n",
      "Epoch 9/25\n",
      "68/68 [==============================] - 5s 68ms/step - loss: 0.0193 - accuracy: 0.9934\n",
      "Epoch 10/25\n",
      "68/68 [==============================] - 5s 72ms/step - loss: 0.0170 - accuracy: 0.9948\n",
      "Epoch 11/25\n",
      "68/68 [==============================] - 5s 75ms/step - loss: 0.0188 - accuracy: 0.9937\n",
      "Epoch 12/25\n",
      "68/68 [==============================] - 6s 92ms/step - loss: 0.0156 - accuracy: 0.9945\n",
      "Epoch 13/25\n",
      "68/68 [==============================] - 5s 70ms/step - loss: 0.0153 - accuracy: 0.9953\n",
      "Epoch 14/25\n",
      "68/68 [==============================] - 5s 70ms/step - loss: 0.0154 - accuracy: 0.9951\n",
      "Epoch 15/25\n",
      "68/68 [==============================] - 5s 69ms/step - loss: 0.0127 - accuracy: 0.9957\n",
      "Epoch 16/25\n",
      "68/68 [==============================] - 5s 66ms/step - loss: 0.0141 - accuracy: 0.9955\n",
      "Epoch 17/25\n",
      "68/68 [==============================] - 5s 72ms/step - loss: 0.0127 - accuracy: 0.9960\n",
      "Epoch 18/25\n",
      "68/68 [==============================] - 5s 75ms/step - loss: 0.0140 - accuracy: 0.9956\n",
      "Epoch 19/25\n",
      "68/68 [==============================] - 5s 79ms/step - loss: 0.0137 - accuracy: 0.9958\n",
      "Epoch 20/25\n",
      "68/68 [==============================] - 5s 76ms/step - loss: 0.0134 - accuracy: 0.9957\n",
      "Epoch 21/25\n",
      "68/68 [==============================] - 5s 69ms/step - loss: 0.0116 - accuracy: 0.9962\n",
      "Epoch 22/25\n",
      "68/68 [==============================] - 5s 66ms/step - loss: 0.0117 - accuracy: 0.9966\n",
      "Epoch 23/25\n",
      "68/68 [==============================] - 5s 69ms/step - loss: 0.0098 - accuracy: 0.9970\n",
      "Epoch 24/25\n",
      "68/68 [==============================] - 5s 67ms/step - loss: 0.0129 - accuracy: 0.9958\n",
      "Epoch 25/25\n",
      "68/68 [==============================] - 5s 71ms/step - loss: 0.0128 - accuracy: 0.9955\n"
     ]
    }
   ],
   "source": [
    "#Fitting the data to the training dataset\n",
    "history = model.fit(\n",
    "    x_train, y_cat_train,\n",
    "    batch_size=512,\n",
    "    epochs=25,\n",
    "    verbose=1,\n",
    "    shuffle=1\n",
    ")"
   ]
  },
  {
   "cell_type": "code",
   "execution_count": 58,
   "id": "a694fef0",
   "metadata": {},
   "outputs": [],
   "source": [
    "from sklearn.metrics import classification_report, confusion_matrix, accuracy_score"
   ]
  },
  {
   "cell_type": "code",
   "execution_count": 59,
   "id": "306e6abf",
   "metadata": {},
   "outputs": [
    {
     "name": "stdout",
     "output_type": "stream",
     "text": [
      "395/395 [==============================] - 2s 5ms/step\n"
     ]
    }
   ],
   "source": [
    "prediction = (model.predict(x_test) > 0.5).astype(\"int32\")"
   ]
  },
  {
   "cell_type": "code",
   "execution_count": 72,
   "id": "f8cd4263",
   "metadata": {},
   "outputs": [],
   "source": [
    "# N.B : could not print classification report, confusion_matrix\n",
    "#tf.keras.saving.save_model(\"model.keras\")\n",
    "model.save('traffic_sign_classificion.h5')\n",
    "model.save('model.keras')"
   ]
  },
  {
   "cell_type": "code",
   "execution_count": null,
   "id": "b2d16278",
   "metadata": {},
   "outputs": [],
   "source": []
  }
 ],
 "metadata": {
  "kernelspec": {
   "display_name": "Python 3 (ipykernel)",
   "language": "python",
   "name": "python3"
  },
  "language_info": {
   "codemirror_mode": {
    "name": "ipython",
    "version": 3
   },
   "file_extension": ".py",
   "mimetype": "text/x-python",
   "name": "python",
   "nbconvert_exporter": "python",
   "pygments_lexer": "ipython3",
   "version": "3.9.6"
  }
 },
 "nbformat": 4,
 "nbformat_minor": 5
}
